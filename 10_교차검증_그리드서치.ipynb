{
  "nbformat": 4,
  "nbformat_minor": 0,
  "metadata": {
    "colab": {
      "provenance": [],
      "authorship_tag": "ABX9TyPU5PYzL1zwSEvtLbL3AT3H",
      "include_colab_link": true
    },
    "kernelspec": {
      "name": "python3",
      "display_name": "Python 3"
    },
    "language_info": {
      "name": "python"
    }
  },
  "cells": [
    {
      "cell_type": "markdown",
      "metadata": {
        "id": "view-in-github",
        "colab_type": "text"
      },
      "source": [
        "<a href=\"https://colab.research.google.com/github/LeeHyunWoo2/AIStudy24/blob/main/10_%EA%B5%90%EC%B0%A8%EA%B2%80%EC%A6%9D_%EA%B7%B8%EB%A6%AC%EB%93%9C%EC%84%9C%EC%B9%98.ipynb\" target=\"_parent\"><img src=\"https://colab.research.google.com/assets/colab-badge.svg\" alt=\"Open In Colab\"/></a>"
      ]
    },
    {
      "cell_type": "markdown",
      "source": [],
      "metadata": {
        "id": "oi7k10n-duu7"
      }
    },
    {
      "cell_type": "code",
      "source": [
        "# 교차 검증과 그리드 서치\n",
        "# 검증세트 : 훈련세트(60%), 검증세트(20%), 테스트세트(20%)\n",
        "# 테스트하고 싶은 매개변수를 바꿔가면서 가장 좋은 모델이 나올 수 있음\n",
        "# 이 매개변수를 사용해 훈련세트와 검증세트를 합쳐 전체 훈련 데이터에서 모델을 다시 훈련함\n",
        "# 마지막 테스트에서 최종 점수를 평가함"
      ],
      "metadata": {
        "id": "CcesfipQgccR"
      },
      "execution_count": null,
      "outputs": []
    },
    {
      "cell_type": "code",
      "execution_count": 1,
      "metadata": {
        "colab": {
          "base_uri": "https://localhost:8080/"
        },
        "id": "petZF2Kgdrj7",
        "outputId": "23177da0-0d29-450c-f3bc-dc9d5d3a3f40"
      },
      "outputs": [
        {
          "output_type": "stream",
          "name": "stdout",
          "text": [
            "(4157, 3) (1040, 3)\n"
          ]
        }
      ],
      "source": [
        "import pandas as pd\n",
        "\n",
        "wine = pd.read_csv('https://bit.ly/wine_csv_data')\n",
        "\n",
        "data = wine[['alcohol', 'sugar', 'pH']].to_numpy()\n",
        "target = wine['class'].to_numpy()\n",
        "\n",
        "from sklearn.model_selection import train_test_split\n",
        "# 훈련세트와 테스트 세트를 나눔\n",
        "train_input, test_input, train_target, test_target = train_test_split(\n",
        "    data, target, test_size=0.2, random_state=42) # 20%\n",
        "\n",
        "#검증세트 20% 생성\n",
        "sub_input, val_input, sub_target, val_target = train_test_split(\n",
        "    train_input, train_target, test_size=0.2, random_state=42)\n",
        "\n",
        "print(sub_input.shape, val_input.shape)\n",
        "# 원래 5197개였던 훈련세트가 4157개로 줄고, 검증세트가 1040개가 됨"
      ]
    },
    {
      "cell_type": "code",
      "source": [
        "# sub_input, sub_target과 val_input, val_target을 사용해 모델을 만들고 평가함.\n",
        "from sklearn.tree import DecisionTreeClassifier\n",
        "\n",
        "dt = DecisionTreeClassifier(random_state=42)\n",
        "dt.fit(sub_input, sub_target) # 훈련\n",
        "\n",
        "print(dt.score(sub_input, sub_target)) # 출력 0.9971133028626413(과대적합)\n",
        "print(dt.score(val_input, val_target))\n",
        "# 매개변수를 바꿔서 더 좋은 모델을 찾아야 함"
      ],
      "metadata": {
        "colab": {
          "base_uri": "https://localhost:8080/"
        },
        "id": "5rTXWU4WgaE2",
        "outputId": "47a7cd38-163b-4d4f-fae9-f3f03ca9e509"
      },
      "execution_count": 2,
      "outputs": [
        {
          "output_type": "stream",
          "name": "stdout",
          "text": [
            "0.9971133028626413\n",
            "0.864423076923077\n"
          ]
        }
      ]
    },
    {
      "cell_type": "code",
      "source": [
        "# 검증세트를 만드느라 훈련 세트가 줄었음. (많은 데이터를 훈련하면 좋은 결과가 나옴)\n",
        "# 교차 검증 : 검증 세트를 떼어 내어 평가하는 과정을 여러번 반복함\n",
        "# [훈련세트, 훈련세트, 검증세트]\n",
        "# [훈련세트, 검증세트, 훈련세트]\n",
        "# [검증세트, 훈련세트, 훈련세트] -> 패리티 방식(3-폴드 교차 검증)\n",
        "# 5-폴드, 10-폴드도 있음\n",
        "# 사이킷런에는 cross_validate()라는 교차 검증 함수를 사용"
      ],
      "metadata": {
        "id": "zFrsZ-YhkX3P"
      },
      "execution_count": null,
      "outputs": []
    },
    {
      "cell_type": "code",
      "source": [
        "from sklearn.model_selection import cross_validate\n",
        "# 평가할 모델 객체를 첫번째 매개변수로 전달함(직접 검증세트를 떼지않고 훈련세트 전체를 전달함)\n",
        "scores = cross_validate(dt, train_input, train_target)\n",
        "#scores = cross_validate(dt, train_input, train_target, cv=5) # cv 매개변수를 이용해 폴드 수를 변경함 cv=5(기본값)\n",
        "print(scores)\n",
        "# fit_time(훈련시간), score_time(검증시간), test_score(최종점수) 키를 가진 딕셔너리(k : v)를 반환함"
      ],
      "metadata": {
        "colab": {
          "base_uri": "https://localhost:8080/"
        },
        "id": "myOKoKheiiKe",
        "outputId": "866be556-b62d-42eb-c6a5-c8318c3498d4"
      },
      "execution_count": 3,
      "outputs": [
        {
          "output_type": "stream",
          "name": "stdout",
          "text": [
            "{'fit_time': array([0.0399189 , 0.03114653, 0.04008412, 0.05856299, 0.01937389]), 'score_time': array([0.00599265, 0.01311612, 0.00265598, 0.0024147 , 0.00206518]), 'test_score': array([0.86923077, 0.84615385, 0.87680462, 0.84889317, 0.83541867])}\n"
          ]
        }
      ]
    },
    {
      "cell_type": "code",
      "source": [
        "import numpy as np\n",
        "\n",
        "print(np.mean(scores['test_score'])) # test_score 이름이지만 검증폴드의 점수임\n",
        "# 5개의 검증 점수를 평균을 내어 최종 점수를 얻는다."
      ],
      "metadata": {
        "colab": {
          "base_uri": "https://localhost:8080/"
        },
        "id": "tQWdciD4nB2E",
        "outputId": "a9d61ee2-ff20-40c8-cb14-86462cf57211"
      },
      "execution_count": 4,
      "outputs": [
        {
          "output_type": "stream",
          "name": "stdout",
          "text": [
            "0.855300214703487\n"
          ]
        }
      ]
    },
    {
      "cell_type": "code",
      "source": [
        "# 주의 : cross_validate()는 훈련세트를 섞어서 폴드를 나누지 않음 -> 분할기 사용(splitter)\n",
        "# 앞서 train_test_split() 함수로 전체 데이터를 섞은 후 훈련 세트를 준비했음\n",
        "# 만약 교차 검증을 할 때 훈련 세트를 섞으려면 분할기(splitter)를 지정해야 한다.\n",
        "# 사이킷런의 분할기는 교차검증에서 폴드를 어떻게 나눌지를 결정함 -> cross_validate()는 기본적으로 회귀모델인 KFold 분할기를 사용함\n",
        "\n",
        "\n",
        "from sklearn.model_selection import StratifiedKFold\n",
        "\n",
        "scores = cross_validate(dt, train_input, train_target, cv=StratifiedKFold())\n",
        "print(np.mean(scores['test_score']))"
      ],
      "metadata": {
        "colab": {
          "base_uri": "https://localhost:8080/"
        },
        "id": "85T4Mh6gnFqn",
        "outputId": "11a497e3-4067-42dd-9d18-15a78b2afbc7"
      },
      "execution_count": 5,
      "outputs": [
        {
          "output_type": "stream",
          "name": "stdout",
          "text": [
            "0.855300214703487\n"
          ]
        }
      ]
    },
    {
      "cell_type": "code",
      "source": [
        "splitter = StratifiedKFold(n_splits=10, shuffle=True, random_state=42) # 10-폴드 교차 검증 수행\n",
        "scores = cross_validate(dt, train_input, train_target, cv=splitter)\n",
        "print(np.mean(scores['test_score']))"
      ],
      "metadata": {
        "colab": {
          "base_uri": "https://localhost:8080/"
        },
        "id": "KXE4xNJVoZHY",
        "outputId": "cc038b6b-c196-4fbc-8566-1752aae6d153"
      },
      "execution_count": 6,
      "outputs": [
        {
          "output_type": "stream",
          "name": "stdout",
          "text": [
            "0.8574181117533719\n"
          ]
        }
      ]
    }
  ]
}